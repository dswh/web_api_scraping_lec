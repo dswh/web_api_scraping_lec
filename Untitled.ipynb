{
 "cells": [
  {
   "cell_type": "code",
   "execution_count": 1,
   "id": "8f425d3a",
   "metadata": {},
   "outputs": [
    {
     "name": "stdout",
     "output_type": "stream",
     "text": [
      "Requirement already satisfied: requests in /Users/harshit/miniconda3/envs/dsml_env/lib/python3.9/site-packages (2.27.1)\n",
      "\u001b[31mERROR: Could not find a version that satisfies the requirement json (from versions: none)\u001b[0m\n",
      "\u001b[31mERROR: No matching distribution found for json\u001b[0m\n"
     ]
    }
   ],
   "source": [
    "!pip install requests json"
   ]
  },
  {
   "cell_type": "code",
   "execution_count": 2,
   "id": "842d8a86",
   "metadata": {},
   "outputs": [],
   "source": [
    "import requests\n",
    "import json"
   ]
  },
  {
   "cell_type": "code",
   "execution_count": 3,
   "id": "5f3437c3",
   "metadata": {},
   "outputs": [],
   "source": [
    "url = \"https://api.ipify.org\"\n",
    "\n",
    "response = requests.get(url)"
   ]
  },
  {
   "cell_type": "code",
   "execution_count": 6,
   "id": "ef180067",
   "metadata": {},
   "outputs": [
    {
     "data": {
      "text/plain": [
       "200"
      ]
     },
     "execution_count": 6,
     "metadata": {},
     "output_type": "execute_result"
    }
   ],
   "source": [
    "response.status_code"
   ]
  },
  {
   "cell_type": "code",
   "execution_count": 7,
   "id": "c802e1ea",
   "metadata": {},
   "outputs": [
    {
     "data": {
      "text/plain": [
       "'122.161.86.73'"
      ]
     },
     "execution_count": 7,
     "metadata": {},
     "output_type": "execute_result"
    }
   ],
   "source": [
    "response.text"
   ]
  },
  {
   "cell_type": "code",
   "execution_count": null,
   "id": "74f1c2ba",
   "metadata": {},
   "outputs": [],
   "source": []
  },
  {
   "cell_type": "markdown",
   "id": "9643df78",
   "metadata": {},
   "source": [
    "## Twitter API\n",
    "\n",
    "1. Get recent tweets from Scaler's account.\n",
    "2. Get a list of all the people that a user is following."
   ]
  },
  {
   "cell_type": "code",
   "execution_count": 8,
   "id": "6e3cfadc",
   "metadata": {},
   "outputs": [
    {
     "name": "stdout",
     "output_type": "stream",
     "text": [
      "Requirement already satisfied: tweepy in /Users/harshit/miniconda3/envs/dsml_env/lib/python3.9/site-packages (4.5.0)\r\n",
      "Requirement already satisfied: requests-oauthlib<2,>=1.0.0 in /Users/harshit/miniconda3/envs/dsml_env/lib/python3.9/site-packages (from tweepy) (1.3.1)\r\n",
      "Requirement already satisfied: requests<3,>=2.27.0 in /Users/harshit/miniconda3/envs/dsml_env/lib/python3.9/site-packages (from tweepy) (2.27.1)\r\n",
      "Requirement already satisfied: idna<4,>=2.5 in /Users/harshit/miniconda3/envs/dsml_env/lib/python3.9/site-packages (from requests<3,>=2.27.0->tweepy) (3.3)\r\n",
      "Requirement already satisfied: urllib3<1.27,>=1.21.1 in /Users/harshit/miniconda3/envs/dsml_env/lib/python3.9/site-packages (from requests<3,>=2.27.0->tweepy) (1.26.8)\r\n",
      "Requirement already satisfied: charset-normalizer~=2.0.0 in /Users/harshit/miniconda3/envs/dsml_env/lib/python3.9/site-packages (from requests<3,>=2.27.0->tweepy) (2.0.11)\r\n",
      "Requirement already satisfied: certifi>=2017.4.17 in /Users/harshit/miniconda3/envs/dsml_env/lib/python3.9/site-packages (from requests<3,>=2.27.0->tweepy) (2021.10.8)\r\n",
      "Requirement already satisfied: oauthlib>=3.0.0 in /Users/harshit/miniconda3/envs/dsml_env/lib/python3.9/site-packages (from requests-oauthlib<2,>=1.0.0->tweepy) (3.2.0)\r\n"
     ]
    }
   ],
   "source": [
    "!pip install tweepy"
   ]
  },
  {
   "cell_type": "code",
   "execution_count": 9,
   "id": "6162fcb3",
   "metadata": {},
   "outputs": [],
   "source": [
    "import tweepy"
   ]
  },
  {
   "cell_type": "code",
   "execution_count": 10,
   "id": "0b6006cc",
   "metadata": {},
   "outputs": [],
   "source": [
    "##authenticating myself with bearer token\n",
    "client = tweepy.Client(bearer_token=\"AAAAAAAAAAAAAAAAAAAAAPPSYwEAAAAARlorVWosZZfuZs5m7xGT8uzk9yQ%3DeAdNOA2H4VKQQezv2SQK4sqP9B3c3ViUMHibevOG7dkATAKR3b\")\n",
    "\n",
    "\n"
   ]
  },
  {
   "cell_type": "code",
   "execution_count": 11,
   "id": "4fedb5fa",
   "metadata": {},
   "outputs": [
    {
     "data": {
      "text/plain": [
       "Response(data=<User id=965699949512900608 name=Clint Murphy username=IAmClintMurphy>, includes={}, errors=[], meta={})"
      ]
     },
     "execution_count": 11,
     "metadata": {},
     "output_type": "execute_result"
    }
   ],
   "source": [
    "client.get_user(username=\"IAmClintMurphy\")"
   ]
  },
  {
   "cell_type": "code",
   "execution_count": 12,
   "id": "c1b72fa5",
   "metadata": {},
   "outputs": [
    {
     "data": {
      "text/plain": [
       "Response(data=[<User id=48139266 name=Phillip Rivers 🎱 username=thePhilRivers>, <User id=733866952045694977 name=Jillian Johnsrud username=JillianJohnsrud>, <User id=14879002 name=Jesse Pujji username=jspujji>, <User id=299754541 name=Gia Macool username=GiaMMacool>, <User id=99011479 name=Andrew Moses username=andrewhmoses>, <User id=1510578497068183558 name=Felix Hazlehurst username=stoic_wealth>, <User id=1137172434212331524 name=Mike Johnson username=MikeJohnson1_>, <User id=1328837956321374208 name=Jeremy Singh username=singhcredible>, <User id=929464603439923201 name=Brooks username=OfficialBBrooks>, <User id=1453368613 name=VIVN. username=VivanVatsa>, <User id=106575148 name=Jamie McLennan username=jamiemclennan29>, <User id=1470841921375543303 name=Chris Pronger username=chrispronger>, <User id=1273505391553449985 name=Aadit Sheth username=aaditsh>, <User id=2231021892 name=Tobi Emonts-Holley username=PeakTobi>, <User id=337470092 name=Robbie Crabtree username=RobbieCrab>, <User id=1493860539444903938 name=Emilie Hartung username=emihartung>, <User id=1521469373231341569 name=Ben Grant username=BenGrant49>, <User id=258512916 name=Codie Sanchez 💥 username=Codie_Sanchez>, <User id=1309212301887635456 name=Adam | Silver State Finance username=SilverStateFI>, <User id=2547534746 name=Aryan Kochhar username=aryan_kochhar>, <User id=245552796 name=James Camp 🛠,🛠 username=JamesonCamp>, <User id=12279 name=Lee LeFever username=leelefever>, <User id=258014556 name=John Belitsky (🏢,🏢) username=JohnBelitsky>, <User id=323308452 name=Billy Oppenheimer username=bpoppenheimer>, <User id=15929213 name=Marius Hauken username=mhauken>, <User id=1401536978542288897 name=Real Estate Hacker™ ⚪️ username=rehacks_>, <User id=1477461366185287682 name=Clint Fiore 🛩 DM for Biz Deals username=ClintFiore>, <User id=407456244 name=Daniel Bustamante username=dbustac>, <User id=233831665 name=Kasey Jones 🏔 username=ABetterJones>, <User id=2226076345 name=Blake Emal username=heyblake>, <User id=414934360 name=Joshua Bonhotal username=jbonhotal>, <User id=27771267 name=Chris Perruna username=cperruna>, <User id=56188803 name=James Lynch username=LynchOnSports>, <User id=2860898992 name=James Corneille username=JamesCorneille>, <User id=38111262 name=Sachin Ramje 🚢🏴‍☠️ username=SachinRamje>, <User id=20731262 name=BAREFOOT TED 👣 username=BarefootTed>, <User id=1195946358 name=Adam Lane Smith username=TheBrometheus>, <User id=1524901467689078789 name=Rob Lennon 🗯 username=thatroblennon>, <User id=38774497 name=Chris Perry | DMV Realtor username=theechrisperry>, <User id=14372104 name=Gurbaksh Singh Chahal username=gchahal>, <User id=1384479814485041153 name=Michael Greenberg username=gentoftech>, <User id=1470545184014233602 name=Niv username=itsnivt>, <User id=1479494259845832704 name=Brian O'Connor username=BrianFOConnor>, <User id=308274446 name=Alex Hart username=Ihartsports0>, <User id=373137637 name=Rob Lennon username=roblennon_old>, <User id=807207864 name=Denis Shatalin username=Denis__Shatalin>, <User id=57832862 name=Joe Holka username=JoeHolka>, <User id=248848460 name=Alvin Cowan username=Alvincowan>, <User id=45851500 name=Jay Clouse | Creator Coach username=jayclouse>, <User id=1476565987386290178 name=Arvindh Sundar username=arvindhsundar>, <User id=1484620841191100426 name=Jasper Polak username=polak_jasper>, <User id=709187032812224512 name=Renee Guilbault username=GuilbaultRenee>, <User id=1131178446019747840 name=Will Rainey username=bluetreesavings>, <User id=1076186222727479296 name=The Giver username=AskTheGiver>, <User id=932750336179294208 name=Taylor Welch username=taylorawelch>, <User id=2715971 name=Ramon username=ramonwilliamson>, <User id=23661767 name=Joseph Bushnell username=JosephBushnell>, <User id=172200213 name=Alex Xu username=alexxubyte>, <User id=2961979644 name=Ryan Reeves username=investing_city>, <User id=1009910601076928512 name=Path To Manliness username=PathToManliness>, <User id=1351455082798338048 name=Dividends Growth Hustler username=DividendIncome_>, <User id=1669654879 name=Sasha 🫶🏻✨| Amazon FBA 💻 username=SASHATEED>, <User id=15939946 name=Radrad Co 🚢 | The Identity Designer username=radrad>, <User id=1435512412376010752 name=Eitan Levy username=eitan_levy101>, <User id=813957486 name=Tyler Todt username=tyromper>, <User id=17987125 name=Rajesh Setty username=RajSetty>, <User id=297081267 name=Gaurav Singh username=gauravsingh961>, <User id=1450424698853072897 name=Alex Mathers username=Alexmathers84>, <User id=128839072 name=Ryan Carruthers username=RyanCarruthers>, <User id=1221687702392729600 name=Hipster Finance 💵🔨 username=finance_hipster>, <User id=16755855 name=Jeff Rose, CFP® username=jjeffrose>, <User id=470129898 name=Tibo - 80/100 username=tibo_maker>, <User id=998671087213871104 name=Eddy Quan username=waronweakness>, <User id=7902612 name=Espree Devora 🎙Podcaster username=EspreeDevora>, <User id=78635783 name=Uncle Sam username=WestCoast_Goodz>, <User id=2534227495 name=Colin Landforce 🛠,🛠 username=landforce>, <User id=109345294 name=Teddy Mitrosilis username=TMitrosilis>, <User id=1085404386929659905 name=Alex Friedman 🤠 username=heyalexfriedman>, <User id=369735258 name=Ryan Breslow username=theryanking>, <User id=905145041374535681 name=Jeremy Moser username=jmoserr>, <User id=1499729464284127234 name=AJ Coetzee | Weight-Loss Coach username=AjCoetzee>, <User id=1429826188990627849 name=Legacy Compass username=Legacy_Compass>, <User id=1458955004283293723 name=Greg Moran ✈️ username=EvergreenMEP>, <User id=2185191098 name=Ted Ryce username=ted_ryce>, <User id=110335314 name=𝐂HARLIE HEAT username=GOODWorkCharlie>, <User id=1455258771530338312 name=DREAM MAKER | SHAWN username=DreamMakerShawn>, <User id=1376517419221585922 name=Zen Conqueror 👑 username=ZenConqueror>, <User id=339061487 name=Pomp 🌪 username=APompliano>, <User id=111606271 name=Kamaro 🚢 username=kamaroly>, <User id=3223600974 name=Christine Carrillo username=ChristineCarril>, <User id=17223094 name=George Silverman, The MindSkills Guy username=GeorgeSilverman>, <User id=1070128260770611201 name=Jared Doerfler username=DoerflerJared>, <User id=1374311735746719747 name=Mahima Jalan | Personal Brand Builder username=MahimaJalan2>, <User id=62518028 name=Harris Fanaroff username=HarrisFanaroff>, <User id=1469796096 name=⚡ Dylan is Writing a Newsletter for Creators 💙💛 username=growthcurrency>, <User id=15735804 name=Brian Bourque 🚀 username=bbourque>, <User id=267217910 name=Dave Kline username=dklineii>, <User id=109087438 name=Jenny Foss username=jobjenny>, <User id=1488287898067607553 name=Alex Brogan username=_alexbrogan>, <User id=1020709444450177025 name=Andrew Petcash username=AndrewPetcash>], includes={}, errors=[], meta={'result_count': 100, 'next_token': '97S1IHJC1RUHEZZZ'})"
      ]
     },
     "execution_count": 12,
     "metadata": {},
     "output_type": "execute_result"
    }
   ],
   "source": [
    "client.get_users_following(965699949512900608)"
   ]
  },
  {
   "cell_type": "code",
   "execution_count": 13,
   "id": "b11a3015",
   "metadata": {},
   "outputs": [
    {
     "name": "stdout",
     "output_type": "stream",
     "text": [
      "14\n"
     ]
    }
   ],
   "source": [
    "query = 'from:scaler_official -is:retweet'\n",
    "\n",
    "\n",
    "tweets = client.search_recent_tweets(query = query, tweet_fields=['created_at', 'author_id'], max_results=100)\n",
    "\n",
    "print(len(tweets.data))\n"
   ]
  },
  {
   "cell_type": "code",
   "execution_count": 18,
   "id": "8c003c68",
   "metadata": {},
   "outputs": [
    {
     "name": "stdout",
     "output_type": "stream",
     "text": [
      "Meet the industry veterans https://t.co/RLvW6YUUaY\n",
      "1194875574331699200\n",
      "-------\n",
      "Register Here: https://t.co/UeC0zeOyMk https://t.co/vRRM9w5IC9\n",
      "1194875574331699200\n",
      "-------\n",
      "Hey Machan!\n",
      "Are you a fresh graduate or a working professional? Do you feel lost and are in dire need of guidance on landing a top product-based tech company?⬇️\n",
      "\n",
      "#CreateImpact #TamilNadu #VirtualEvent #Meetup\n",
      "1194875574331699200\n",
      "-------\n",
      "Data visualization explained the right way. Let us know what other terms you’d like a simplification for? \n",
      "\n",
      "#datavisualization #dataanalytics #datareporting\n",
      "1194875574331699200\n",
      "-------\n",
      "\"I could learn a lot better when things are structured... Scaler just provided me that.\" Dhiraj felt that his current job didn't challenge him enough, which inspired him to upskill and scale his career.\n",
      "\n",
      "#BehindTheWin #ScalerStories https://t.co/0occYiOCLI\n",
      "1194875574331699200\n",
      "-------\n",
      "Register here - https://t.co/ajBUlUf5ho\n",
      "\n",
      "PS.: We’ve got free pizza and coke. And a special bag of goodies to take home. https://t.co/U0MBHFWCEv\n",
      "1194875574331699200\n",
      "-------\n",
      "Where’s you’ll get to meet like-minded software engineers from the city, professionals from top tech MNCs, and industry veterans like Arnav Gupta, Ex -  Engineering Head, Zomato, Shrikanth Varma Chekuri, Co-Founder, Applied Roots, Satya Sai, Team Lead, SCALER.\n",
      "1194875574331699200\n",
      "-------\n",
      "And for these geeky Pottas and Pottis we are bringing an exclusive offline event.\n",
      "1194875574331699200\n",
      "-------\n",
      "Biryani and haleem are the best things to come out of Hyderabad.\n",
      "But what if we say there are equally best tech talents nestled in the city?\n",
      "1194875574331699200\n",
      "-------\n",
      "Stay an hour late, nobody bats an eye. Walk in 5 mins late and everyone loses their mind.\n",
      "\n",
      "#MondayMeetings #CorporateMemes https://t.co/kdS4ZlpbHr\n",
      "1194875574331699200\n",
      "-------\n",
      "2020 lockdown is the witness, nothing good comes out of proliferation.\n",
      "\n",
      "#ProgrammingLife #CodingLife #SCALERComics https://t.co/3ZXO30OjnD\n",
      "1194875574331699200\n",
      "-------\n",
      "What are some innovative &amp; amazing #jugaads you use to make your college, hostel or professional life easier? Drop them in the comments 👇\n",
      "\n",
      "And click on the link to watch the 4th episode of #BERojgaar - https://t.co/CQR4jxkIS4\n",
      "\n",
      "@BhaDiPa \n",
      "\n",
      "#EngineeringLife #WebSeries #SCALER https://t.co/CoxeZx7uzN\n",
      "1194875574331699200\n",
      "-------\n",
      "Preparation for System Design interviews can be nerve-wracking when you fail to have a direction. To make this process a tad bit simpler, we bring you a minute guide to discuss the prerequisites of a System Design. #systemdesign #developer #SCALER #Software #engineering #engineer https://t.co/vmseSQM3O1\n",
      "1194875574331699200\n",
      "-------\n",
      "Burnout can cause less productivity, tamper with the quality of work resulting to poor outcomes &amp; cause a negative impact on your health. To help you tackle this issue, today’s one minute guide suggests 3 ways for you to avoid burnout. \n",
      "\n",
      "#avoidburnout #productivity #careersuccess https://t.co/DRV1V5F4Ld\n",
      "1194875574331699200\n",
      "-------\n"
     ]
    }
   ],
   "source": [
    "for tweet in tweets.data:\n",
    "    print(tweet.text)\n",
    "    print(tweet.author_id)\n",
    "    print(\"-------\")\n",
    "\n",
    "    "
   ]
  },
  {
   "cell_type": "code",
   "execution_count": 19,
   "id": "d082c56d",
   "metadata": {},
   "outputs": [
    {
     "data": {
      "text/plain": [
       "<tweepy.pagination.Paginator at 0x107814ac0>"
      ]
     },
     "execution_count": 19,
     "metadata": {},
     "output_type": "execute_result"
    }
   ],
   "source": [
    "query = \"#omicron -is:retweet\"\n",
    "\n",
    "data = {\n",
    "    'text': [],\n",
    "    'created_at': [],\n",
    "    'author_id': []    \n",
    "}\n",
    "\n",
    "\n",
    "tweets = tweepy.Paginator(client.search_recent_tweets, query = query, \n",
    "                 tweet_fields = ['created_at', 'author_id'],\n",
    "                 max_results = 100)\n",
    "\n",
    "tweets"
   ]
  },
  {
   "cell_type": "code",
   "execution_count": 29,
   "id": "68fa99e0",
   "metadata": {},
   "outputs": [],
   "source": [
    "for tweet in tweets.flatten(limit=2000):\n",
    "    data['text'].append(tweet.text)\n",
    "    data['created_at'].append(tweet.created_at)\n",
    "    data['author_id'].append(tweet.author_id)\n",
    "    \n",
    "    \n",
    "    \n",
    "    "
   ]
  },
  {
   "cell_type": "code",
   "execution_count": 25,
   "id": "1147a116",
   "metadata": {},
   "outputs": [],
   "source": [
    "import pandas as pd"
   ]
  },
  {
   "cell_type": "code",
   "execution_count": 26,
   "id": "97ae1f11",
   "metadata": {},
   "outputs": [],
   "source": [
    "df = pd.DataFrame(data)"
   ]
  },
  {
   "cell_type": "code",
   "execution_count": 28,
   "id": "1aa889b6",
   "metadata": {},
   "outputs": [
    {
     "data": {
      "text/plain": [
       "(1000, 3)"
      ]
     },
     "execution_count": 28,
     "metadata": {},
     "output_type": "execute_result"
    }
   ],
   "source": [
    "df.shape"
   ]
  },
  {
   "cell_type": "code",
   "execution_count": null,
   "id": "f9389396",
   "metadata": {},
   "outputs": [],
   "source": []
  },
  {
   "cell_type": "code",
   "execution_count": 41,
   "id": "0b611d59",
   "metadata": {},
   "outputs": [
    {
     "data": {
      "text/plain": [
       "<Response [200]>"
      ]
     },
     "execution_count": 41,
     "metadata": {},
     "output_type": "execute_result"
    }
   ],
   "source": [
    "res = requests.get(\"http://quotes.toscrape.com/page/2/\")\n",
    "res"
   ]
  },
  {
   "cell_type": "code",
   "execution_count": 44,
   "id": "475a3f96",
   "metadata": {},
   "outputs": [
    {
     "data": {
      "text/plain": [
       "b'<!DOCTYPE html>\\n<html lang=\"en\">\\n<head>\\n\\t<meta charset=\"UTF-8\">\\n\\t<title>Quotes to Scrape</title>\\n    <link rel=\"stylesheet\" href=\"/static/bootstrap.min.css\">\\n    <link rel=\"stylesheet\" href=\"/static/main.css\">\\n</head>\\n<body>\\n    <div class=\"container\">\\n        <div class=\"row header-box\">\\n            <div class=\"col-md-8\">\\n                <h1>\\n                    <a href=\"/\" style=\"text-decoration: none\">Quotes to Scrape</a>\\n                </h1>\\n            </div>\\n            <div class=\"col-md-4\">\\n                <p>\\n                \\n                    <a href=\"/login\">Login</a>\\n                \\n                </p>\\n            </div>\\n        </div>\\n    \\n\\n<div class=\"row\">\\n    <div class=\"col-md-8\">\\n\\n    <div class=\"quote\" itemscope itemtype=\"http://schema.org/CreativeWork\">\\n        <span class=\"text\" itemprop=\"text\">\\xe2\\x80\\x9cThis life is what you make it. No matter what, you&#39;re going to mess up sometimes, it&#39;s a universal truth. But the good part is you get to decide how you&#39;re going to mess it up. Girls will be your friends - they&#39;ll act like it anyway. But just remember, some come, some go. The ones that stay with you through everything - they&#39;re your true best friends. Don&#39;t let go of them. Also remember, sisters make the best friends in the world. As for lovers, well, they&#39;ll come and go too. And baby, I hate to say it, most of them - actually pretty much all of them are going to break your heart, but you can&#39;t give up because if you give up, you&#39;ll never find your soulmate. You&#39;ll never find that half who makes you whole and that goes for everything. Just because you fail once, doesn&#39;t mean you&#39;re gonna fail at everything. Keep trying, hold on, and always, always, always believe in yourself, because if you don&#39;t, then who will, sweetie? So keep your head high, keep your chin up, and most importantly, keep smiling, because life&#39;s a beautiful thing and there&#39;s so much to smile about.\\xe2\\x80\\x9d</span>\\n        <span>by <small class=\"author\" itemprop=\"author\">Marilyn Monroe</small>\\n        <a href=\"/author/Marilyn-Monroe\">(about)</a>\\n        </span>\\n        <div class=\"tags\">\\n            Tags:\\n            <meta class=\"keywords\" itemprop=\"keywords\" content=\"friends,heartbreak,inspirational,life,love,sisters\" /    > \\n            \\n            <a class=\"tag\" href=\"/tag/friends/page/1/\">friends</a>\\n            \\n            <a class=\"tag\" href=\"/tag/heartbreak/page/1/\">heartbreak</a>\\n            \\n            <a class=\"tag\" href=\"/tag/inspirational/page/1/\">inspirational</a>\\n            \\n            <a class=\"tag\" href=\"/tag/life/page/1/\">life</a>\\n            \\n            <a class=\"tag\" href=\"/tag/love/page/1/\">love</a>\\n            \\n            <a class=\"tag\" href=\"/tag/sisters/page/1/\">sisters</a>\\n            \\n        </div>\\n    </div>\\n\\n    <div class=\"quote\" itemscope itemtype=\"http://schema.org/CreativeWork\">\\n        <span class=\"text\" itemprop=\"text\">\\xe2\\x80\\x9cIt takes a great deal of bravery to stand up to our enemies, but just as much to stand up to our friends.\\xe2\\x80\\x9d</span>\\n        <span>by <small class=\"author\" itemprop=\"author\">J.K. Rowling</small>\\n        <a href=\"/author/J-K-Rowling\">(about)</a>\\n        </span>\\n        <div class=\"tags\">\\n            Tags:\\n            <meta class=\"keywords\" itemprop=\"keywords\" content=\"courage,friends\" /    > \\n            \\n            <a class=\"tag\" href=\"/tag/courage/page/1/\">courage</a>\\n            \\n            <a class=\"tag\" href=\"/tag/friends/page/1/\">friends</a>\\n            \\n        </div>\\n    </div>\\n\\n    <div class=\"quote\" itemscope itemtype=\"http://schema.org/CreativeWork\">\\n        <span class=\"text\" itemprop=\"text\">\\xe2\\x80\\x9cIf you can&#39;t explain it to a six year old, you don&#39;t understand it yourself.\\xe2\\x80\\x9d</span>\\n        <span>by <small class=\"author\" itemprop=\"author\">Albert Einstein</small>\\n        <a href=\"/author/Albert-Einstein\">(about)</a>\\n        </span>\\n        <div class=\"tags\">\\n            Tags:\\n            <meta class=\"keywords\" itemprop=\"keywords\" content=\"simplicity,understand\" /    > \\n            \\n            <a class=\"tag\" href=\"/tag/simplicity/page/1/\">simplicity</a>\\n            \\n            <a class=\"tag\" href=\"/tag/understand/page/1/\">understand</a>\\n            \\n        </div>\\n    </div>\\n\\n    <div class=\"quote\" itemscope itemtype=\"http://schema.org/CreativeWork\">\\n        <span class=\"text\" itemprop=\"text\">\\xe2\\x80\\x9cYou may not be her first, her last, or her only. She loved before she may love again. But if she loves you now, what else matters? She&#39;s not perfect\\xe2\\x80\\x94you aren&#39;t either, and the two of you may never be perfect together but if she can make you laugh, cause you to think twice, and admit to being human and making mistakes, hold onto her and give her the most you can. She may not be thinking about you every second of the day, but she will give you a part of her that she knows you can break\\xe2\\x80\\x94her heart. So don&#39;t hurt her, don&#39;t change her, don&#39;t analyze and don&#39;t expect more than she can give. Smile when she makes you happy, let her know when she makes you mad, and miss her when she&#39;s not there.\\xe2\\x80\\x9d</span>\\n        <span>by <small class=\"author\" itemprop=\"author\">Bob Marley</small>\\n        <a href=\"/author/Bob-Marley\">(about)</a>\\n        </span>\\n        <div class=\"tags\">\\n            Tags:\\n            <meta class=\"keywords\" itemprop=\"keywords\" content=\"love\" /    > \\n            \\n            <a class=\"tag\" href=\"/tag/love/page/1/\">love</a>\\n            \\n        </div>\\n    </div>\\n\\n    <div class=\"quote\" itemscope itemtype=\"http://schema.org/CreativeWork\">\\n        <span class=\"text\" itemprop=\"text\">\\xe2\\x80\\x9cI like nonsense, it wakes up the brain cells. Fantasy is a necessary ingredient in living.\\xe2\\x80\\x9d</span>\\n        <span>by <small class=\"author\" itemprop=\"author\">Dr. Seuss</small>\\n        <a href=\"/author/Dr-Seuss\">(about)</a>\\n        </span>\\n        <div class=\"tags\">\\n            Tags:\\n            <meta class=\"keywords\" itemprop=\"keywords\" content=\"fantasy\" /    > \\n            \\n            <a class=\"tag\" href=\"/tag/fantasy/page/1/\">fantasy</a>\\n            \\n        </div>\\n    </div>\\n\\n    <div class=\"quote\" itemscope itemtype=\"http://schema.org/CreativeWork\">\\n        <span class=\"text\" itemprop=\"text\">\\xe2\\x80\\x9cI may not have gone where I intended to go, but I think I have ended up where I needed to be.\\xe2\\x80\\x9d</span>\\n        <span>by <small class=\"author\" itemprop=\"author\">Douglas Adams</small>\\n        <a href=\"/author/Douglas-Adams\">(about)</a>\\n        </span>\\n        <div class=\"tags\">\\n            Tags:\\n            <meta class=\"keywords\" itemprop=\"keywords\" content=\"life,navigation\" /    > \\n            \\n            <a class=\"tag\" href=\"/tag/life/page/1/\">life</a>\\n            \\n            <a class=\"tag\" href=\"/tag/navigation/page/1/\">navigation</a>\\n            \\n        </div>\\n    </div>\\n\\n    <div class=\"quote\" itemscope itemtype=\"http://schema.org/CreativeWork\">\\n        <span class=\"text\" itemprop=\"text\">\\xe2\\x80\\x9cThe opposite of love is not hate, it&#39;s indifference. The opposite of art is not ugliness, it&#39;s indifference. The opposite of faith is not heresy, it&#39;s indifference. And the opposite of life is not death, it&#39;s indifference.\\xe2\\x80\\x9d</span>\\n        <span>by <small class=\"author\" itemprop=\"author\">Elie Wiesel</small>\\n        <a href=\"/author/Elie-Wiesel\">(about)</a>\\n        </span>\\n        <div class=\"tags\">\\n            Tags:\\n            <meta class=\"keywords\" itemprop=\"keywords\" content=\"activism,apathy,hate,indifference,inspirational,love,opposite,philosophy\" /    > \\n            \\n            <a class=\"tag\" href=\"/tag/activism/page/1/\">activism</a>\\n            \\n            <a class=\"tag\" href=\"/tag/apathy/page/1/\">apathy</a>\\n            \\n            <a class=\"tag\" href=\"/tag/hate/page/1/\">hate</a>\\n            \\n            <a class=\"tag\" href=\"/tag/indifference/page/1/\">indifference</a>\\n            \\n            <a class=\"tag\" href=\"/tag/inspirational/page/1/\">inspirational</a>\\n            \\n            <a class=\"tag\" href=\"/tag/love/page/1/\">love</a>\\n            \\n            <a class=\"tag\" href=\"/tag/opposite/page/1/\">opposite</a>\\n            \\n            <a class=\"tag\" href=\"/tag/philosophy/page/1/\">philosophy</a>\\n            \\n        </div>\\n    </div>\\n\\n    <div class=\"quote\" itemscope itemtype=\"http://schema.org/CreativeWork\">\\n        <span class=\"text\" itemprop=\"text\">\\xe2\\x80\\x9cIt is not a lack of love, but a lack of friendship that makes unhappy marriages.\\xe2\\x80\\x9d</span>\\n        <span>by <small class=\"author\" itemprop=\"author\">Friedrich Nietzsche</small>\\n        <a href=\"/author/Friedrich-Nietzsche\">(about)</a>\\n        </span>\\n        <div class=\"tags\">\\n            Tags:\\n            <meta class=\"keywords\" itemprop=\"keywords\" content=\"friendship,lack-of-friendship,lack-of-love,love,marriage,unhappy-marriage\" /    > \\n            \\n            <a class=\"tag\" href=\"/tag/friendship/page/1/\">friendship</a>\\n            \\n            <a class=\"tag\" href=\"/tag/lack-of-friendship/page/1/\">lack-of-friendship</a>\\n            \\n            <a class=\"tag\" href=\"/tag/lack-of-love/page/1/\">lack-of-love</a>\\n            \\n            <a class=\"tag\" href=\"/tag/love/page/1/\">love</a>\\n            \\n            <a class=\"tag\" href=\"/tag/marriage/page/1/\">marriage</a>\\n            \\n            <a class=\"tag\" href=\"/tag/unhappy-marriage/page/1/\">unhappy-marriage</a>\\n            \\n        </div>\\n    </div>\\n\\n    <div class=\"quote\" itemscope itemtype=\"http://schema.org/CreativeWork\">\\n        <span class=\"text\" itemprop=\"text\">\\xe2\\x80\\x9cGood friends, good books, and a sleepy conscience: this is the ideal life.\\xe2\\x80\\x9d</span>\\n        <span>by <small class=\"author\" itemprop=\"author\">Mark Twain</small>\\n        <a href=\"/author/Mark-Twain\">(about)</a>\\n        </span>\\n        <div class=\"tags\">\\n            Tags:\\n            <meta class=\"keywords\" itemprop=\"keywords\" content=\"books,contentment,friends,friendship,life\" /    > \\n            \\n            <a class=\"tag\" href=\"/tag/books/page/1/\">books</a>\\n            \\n            <a class=\"tag\" href=\"/tag/contentment/page/1/\">contentment</a>\\n            \\n            <a class=\"tag\" href=\"/tag/friends/page/1/\">friends</a>\\n            \\n            <a class=\"tag\" href=\"/tag/friendship/page/1/\">friendship</a>\\n            \\n            <a class=\"tag\" href=\"/tag/life/page/1/\">life</a>\\n            \\n        </div>\\n    </div>\\n\\n    <div class=\"quote\" itemscope itemtype=\"http://schema.org/CreativeWork\">\\n        <span class=\"text\" itemprop=\"text\">\\xe2\\x80\\x9cLife is what happens to us while we are making other plans.\\xe2\\x80\\x9d</span>\\n        <span>by <small class=\"author\" itemprop=\"author\">Allen Saunders</small>\\n        <a href=\"/author/Allen-Saunders\">(about)</a>\\n        </span>\\n        <div class=\"tags\">\\n            Tags:\\n            <meta class=\"keywords\" itemprop=\"keywords\" content=\"fate,life,misattributed-john-lennon,planning,plans\" /    > \\n            \\n            <a class=\"tag\" href=\"/tag/fate/page/1/\">fate</a>\\n            \\n            <a class=\"tag\" href=\"/tag/life/page/1/\">life</a>\\n            \\n            <a class=\"tag\" href=\"/tag/misattributed-john-lennon/page/1/\">misattributed-john-lennon</a>\\n            \\n            <a class=\"tag\" href=\"/tag/planning/page/1/\">planning</a>\\n            \\n            <a class=\"tag\" href=\"/tag/plans/page/1/\">plans</a>\\n            \\n        </div>\\n    </div>\\n\\n    <nav>\\n        <ul class=\"pager\">\\n            \\n            <li class=\"previous\">\\n                <a href=\"/page/1/\"><span aria-hidden=\"true\">&larr;</span> Previous</a>\\n            </li>\\n            \\n            \\n            <li class=\"next\">\\n                <a href=\"/page/3/\">Next <span aria-hidden=\"true\">&rarr;</span></a>\\n            </li>\\n            \\n        </ul>\\n    </nav>\\n    </div>\\n    <div class=\"col-md-4 tags-box\">\\n        \\n            <h2>Top Ten tags</h2>\\n            \\n            <span class=\"tag-item\">\\n            <a class=\"tag\" style=\"font-size: 28px\" href=\"/tag/love/\">love</a>\\n            </span>\\n            \\n            <span class=\"tag-item\">\\n            <a class=\"tag\" style=\"font-size: 26px\" href=\"/tag/inspirational/\">inspirational</a>\\n            </span>\\n            \\n            <span class=\"tag-item\">\\n            <a class=\"tag\" style=\"font-size: 26px\" href=\"/tag/life/\">life</a>\\n            </span>\\n            \\n            <span class=\"tag-item\">\\n            <a class=\"tag\" style=\"font-size: 24px\" href=\"/tag/humor/\">humor</a>\\n            </span>\\n            \\n            <span class=\"tag-item\">\\n            <a class=\"tag\" style=\"font-size: 22px\" href=\"/tag/books/\">books</a>\\n            </span>\\n            \\n            <span class=\"tag-item\">\\n            <a class=\"tag\" style=\"font-size: 14px\" href=\"/tag/reading/\">reading</a>\\n            </span>\\n            \\n            <span class=\"tag-item\">\\n            <a class=\"tag\" style=\"font-size: 10px\" href=\"/tag/friendship/\">friendship</a>\\n            </span>\\n            \\n            <span class=\"tag-item\">\\n            <a class=\"tag\" style=\"font-size: 8px\" href=\"/tag/friends/\">friends</a>\\n            </span>\\n            \\n            <span class=\"tag-item\">\\n            <a class=\"tag\" style=\"font-size: 8px\" href=\"/tag/truth/\">truth</a>\\n            </span>\\n            \\n            <span class=\"tag-item\">\\n            <a class=\"tag\" style=\"font-size: 6px\" href=\"/tag/simile/\">simile</a>\\n            </span>\\n            \\n        \\n    </div>\\n</div>\\n\\n    </div>\\n    <footer class=\"footer\">\\n        <div class=\"container\">\\n            <p class=\"text-muted\">\\n                Quotes by: <a href=\"https://www.goodreads.com/quotes\">GoodReads.com</a>\\n            </p>\\n            <p class=\"copyright\">\\n                Made with <span class=\\'sh-red\\'>\\xe2\\x9d\\xa4</span> by <a href=\"https://scrapinghub.com\">Scrapinghub</a>\\n            </p>\\n        </div>\\n    </footer>\\n</body>\\n</html>'"
      ]
     },
     "execution_count": 44,
     "metadata": {},
     "output_type": "execute_result"
    }
   ],
   "source": [
    "res.content"
   ]
  },
  {
   "cell_type": "code",
   "execution_count": 43,
   "id": "6053bc61",
   "metadata": {},
   "outputs": [
    {
     "data": {
      "text/plain": [
       "<!DOCTYPE html>\n",
       "<html lang=\"en\">\n",
       "<head>\n",
       "<meta charset=\"utf-8\"/>\n",
       "<title>Quotes to Scrape</title>\n",
       "<link href=\"/static/bootstrap.min.css\" rel=\"stylesheet\"/>\n",
       "<link href=\"/static/main.css\" rel=\"stylesheet\"/>\n",
       "</head>\n",
       "<body>\n",
       "<div class=\"container\">\n",
       "<div class=\"row header-box\">\n",
       "<div class=\"col-md-8\">\n",
       "<h1>\n",
       "<a href=\"/\" style=\"text-decoration: none\">Quotes to Scrape</a>\n",
       "</h1>\n",
       "</div>\n",
       "<div class=\"col-md-4\">\n",
       "<p>\n",
       "<a href=\"/login\">Login</a>\n",
       "</p>\n",
       "</div>\n",
       "</div>\n",
       "<div class=\"row\">\n",
       "<div class=\"col-md-8\">\n",
       "<div class=\"quote\" itemscope=\"\" itemtype=\"http://schema.org/CreativeWork\">\n",
       "<span class=\"text\" itemprop=\"text\">“This life is what you make it. No matter what, you're going to mess up sometimes, it's a universal truth. But the good part is you get to decide how you're going to mess it up. Girls will be your friends - they'll act like it anyway. But just remember, some come, some go. The ones that stay with you through everything - they're your true best friends. Don't let go of them. Also remember, sisters make the best friends in the world. As for lovers, well, they'll come and go too. And baby, I hate to say it, most of them - actually pretty much all of them are going to break your heart, but you can't give up because if you give up, you'll never find your soulmate. You'll never find that half who makes you whole and that goes for everything. Just because you fail once, doesn't mean you're gonna fail at everything. Keep trying, hold on, and always, always, always believe in yourself, because if you don't, then who will, sweetie? So keep your head high, keep your chin up, and most importantly, keep smiling, because life's a beautiful thing and there's so much to smile about.”</span>\n",
       "<span>by <small class=\"author\" itemprop=\"author\">Marilyn Monroe</small>\n",
       "<a href=\"/author/Marilyn-Monroe\">(about)</a>\n",
       "</span>\n",
       "<div class=\"tags\">\n",
       "            Tags:\n",
       "            <meta class=\"keywords\" content=\"friends,heartbreak,inspirational,life,love,sisters\" itemprop=\"keywords\"/>\n",
       "<a class=\"tag\" href=\"/tag/friends/page/1/\">friends</a>\n",
       "<a class=\"tag\" href=\"/tag/heartbreak/page/1/\">heartbreak</a>\n",
       "<a class=\"tag\" href=\"/tag/inspirational/page/1/\">inspirational</a>\n",
       "<a class=\"tag\" href=\"/tag/life/page/1/\">life</a>\n",
       "<a class=\"tag\" href=\"/tag/love/page/1/\">love</a>\n",
       "<a class=\"tag\" href=\"/tag/sisters/page/1/\">sisters</a>\n",
       "</div>\n",
       "</div>\n",
       "<div class=\"quote\" itemscope=\"\" itemtype=\"http://schema.org/CreativeWork\">\n",
       "<span class=\"text\" itemprop=\"text\">“It takes a great deal of bravery to stand up to our enemies, but just as much to stand up to our friends.”</span>\n",
       "<span>by <small class=\"author\" itemprop=\"author\">J.K. Rowling</small>\n",
       "<a href=\"/author/J-K-Rowling\">(about)</a>\n",
       "</span>\n",
       "<div class=\"tags\">\n",
       "            Tags:\n",
       "            <meta class=\"keywords\" content=\"courage,friends\" itemprop=\"keywords\"/>\n",
       "<a class=\"tag\" href=\"/tag/courage/page/1/\">courage</a>\n",
       "<a class=\"tag\" href=\"/tag/friends/page/1/\">friends</a>\n",
       "</div>\n",
       "</div>\n",
       "<div class=\"quote\" itemscope=\"\" itemtype=\"http://schema.org/CreativeWork\">\n",
       "<span class=\"text\" itemprop=\"text\">“If you can't explain it to a six year old, you don't understand it yourself.”</span>\n",
       "<span>by <small class=\"author\" itemprop=\"author\">Albert Einstein</small>\n",
       "<a href=\"/author/Albert-Einstein\">(about)</a>\n",
       "</span>\n",
       "<div class=\"tags\">\n",
       "            Tags:\n",
       "            <meta class=\"keywords\" content=\"simplicity,understand\" itemprop=\"keywords\"/>\n",
       "<a class=\"tag\" href=\"/tag/simplicity/page/1/\">simplicity</a>\n",
       "<a class=\"tag\" href=\"/tag/understand/page/1/\">understand</a>\n",
       "</div>\n",
       "</div>\n",
       "<div class=\"quote\" itemscope=\"\" itemtype=\"http://schema.org/CreativeWork\">\n",
       "<span class=\"text\" itemprop=\"text\">“You may not be her first, her last, or her only. She loved before she may love again. But if she loves you now, what else matters? She's not perfect—you aren't either, and the two of you may never be perfect together but if she can make you laugh, cause you to think twice, and admit to being human and making mistakes, hold onto her and give her the most you can. She may not be thinking about you every second of the day, but she will give you a part of her that she knows you can break—her heart. So don't hurt her, don't change her, don't analyze and don't expect more than she can give. Smile when she makes you happy, let her know when she makes you mad, and miss her when she's not there.”</span>\n",
       "<span>by <small class=\"author\" itemprop=\"author\">Bob Marley</small>\n",
       "<a href=\"/author/Bob-Marley\">(about)</a>\n",
       "</span>\n",
       "<div class=\"tags\">\n",
       "            Tags:\n",
       "            <meta class=\"keywords\" content=\"love\" itemprop=\"keywords\"/>\n",
       "<a class=\"tag\" href=\"/tag/love/page/1/\">love</a>\n",
       "</div>\n",
       "</div>\n",
       "<div class=\"quote\" itemscope=\"\" itemtype=\"http://schema.org/CreativeWork\">\n",
       "<span class=\"text\" itemprop=\"text\">“I like nonsense, it wakes up the brain cells. Fantasy is a necessary ingredient in living.”</span>\n",
       "<span>by <small class=\"author\" itemprop=\"author\">Dr. Seuss</small>\n",
       "<a href=\"/author/Dr-Seuss\">(about)</a>\n",
       "</span>\n",
       "<div class=\"tags\">\n",
       "            Tags:\n",
       "            <meta class=\"keywords\" content=\"fantasy\" itemprop=\"keywords\"/>\n",
       "<a class=\"tag\" href=\"/tag/fantasy/page/1/\">fantasy</a>\n",
       "</div>\n",
       "</div>\n",
       "<div class=\"quote\" itemscope=\"\" itemtype=\"http://schema.org/CreativeWork\">\n",
       "<span class=\"text\" itemprop=\"text\">“I may not have gone where I intended to go, but I think I have ended up where I needed to be.”</span>\n",
       "<span>by <small class=\"author\" itemprop=\"author\">Douglas Adams</small>\n",
       "<a href=\"/author/Douglas-Adams\">(about)</a>\n",
       "</span>\n",
       "<div class=\"tags\">\n",
       "            Tags:\n",
       "            <meta class=\"keywords\" content=\"life,navigation\" itemprop=\"keywords\"/>\n",
       "<a class=\"tag\" href=\"/tag/life/page/1/\">life</a>\n",
       "<a class=\"tag\" href=\"/tag/navigation/page/1/\">navigation</a>\n",
       "</div>\n",
       "</div>\n",
       "<div class=\"quote\" itemscope=\"\" itemtype=\"http://schema.org/CreativeWork\">\n",
       "<span class=\"text\" itemprop=\"text\">“The opposite of love is not hate, it's indifference. The opposite of art is not ugliness, it's indifference. The opposite of faith is not heresy, it's indifference. And the opposite of life is not death, it's indifference.”</span>\n",
       "<span>by <small class=\"author\" itemprop=\"author\">Elie Wiesel</small>\n",
       "<a href=\"/author/Elie-Wiesel\">(about)</a>\n",
       "</span>\n",
       "<div class=\"tags\">\n",
       "            Tags:\n",
       "            <meta class=\"keywords\" content=\"activism,apathy,hate,indifference,inspirational,love,opposite,philosophy\" itemprop=\"keywords\"/>\n",
       "<a class=\"tag\" href=\"/tag/activism/page/1/\">activism</a>\n",
       "<a class=\"tag\" href=\"/tag/apathy/page/1/\">apathy</a>\n",
       "<a class=\"tag\" href=\"/tag/hate/page/1/\">hate</a>\n",
       "<a class=\"tag\" href=\"/tag/indifference/page/1/\">indifference</a>\n",
       "<a class=\"tag\" href=\"/tag/inspirational/page/1/\">inspirational</a>\n",
       "<a class=\"tag\" href=\"/tag/love/page/1/\">love</a>\n",
       "<a class=\"tag\" href=\"/tag/opposite/page/1/\">opposite</a>\n",
       "<a class=\"tag\" href=\"/tag/philosophy/page/1/\">philosophy</a>\n",
       "</div>\n",
       "</div>\n",
       "<div class=\"quote\" itemscope=\"\" itemtype=\"http://schema.org/CreativeWork\">\n",
       "<span class=\"text\" itemprop=\"text\">“It is not a lack of love, but a lack of friendship that makes unhappy marriages.”</span>\n",
       "<span>by <small class=\"author\" itemprop=\"author\">Friedrich Nietzsche</small>\n",
       "<a href=\"/author/Friedrich-Nietzsche\">(about)</a>\n",
       "</span>\n",
       "<div class=\"tags\">\n",
       "            Tags:\n",
       "            <meta class=\"keywords\" content=\"friendship,lack-of-friendship,lack-of-love,love,marriage,unhappy-marriage\" itemprop=\"keywords\"/>\n",
       "<a class=\"tag\" href=\"/tag/friendship/page/1/\">friendship</a>\n",
       "<a class=\"tag\" href=\"/tag/lack-of-friendship/page/1/\">lack-of-friendship</a>\n",
       "<a class=\"tag\" href=\"/tag/lack-of-love/page/1/\">lack-of-love</a>\n",
       "<a class=\"tag\" href=\"/tag/love/page/1/\">love</a>\n",
       "<a class=\"tag\" href=\"/tag/marriage/page/1/\">marriage</a>\n",
       "<a class=\"tag\" href=\"/tag/unhappy-marriage/page/1/\">unhappy-marriage</a>\n",
       "</div>\n",
       "</div>\n",
       "<div class=\"quote\" itemscope=\"\" itemtype=\"http://schema.org/CreativeWork\">\n",
       "<span class=\"text\" itemprop=\"text\">“Good friends, good books, and a sleepy conscience: this is the ideal life.”</span>\n",
       "<span>by <small class=\"author\" itemprop=\"author\">Mark Twain</small>\n",
       "<a href=\"/author/Mark-Twain\">(about)</a>\n",
       "</span>\n",
       "<div class=\"tags\">\n",
       "            Tags:\n",
       "            <meta class=\"keywords\" content=\"books,contentment,friends,friendship,life\" itemprop=\"keywords\"/>\n",
       "<a class=\"tag\" href=\"/tag/books/page/1/\">books</a>\n",
       "<a class=\"tag\" href=\"/tag/contentment/page/1/\">contentment</a>\n",
       "<a class=\"tag\" href=\"/tag/friends/page/1/\">friends</a>\n",
       "<a class=\"tag\" href=\"/tag/friendship/page/1/\">friendship</a>\n",
       "<a class=\"tag\" href=\"/tag/life/page/1/\">life</a>\n",
       "</div>\n",
       "</div>\n",
       "<div class=\"quote\" itemscope=\"\" itemtype=\"http://schema.org/CreativeWork\">\n",
       "<span class=\"text\" itemprop=\"text\">“Life is what happens to us while we are making other plans.”</span>\n",
       "<span>by <small class=\"author\" itemprop=\"author\">Allen Saunders</small>\n",
       "<a href=\"/author/Allen-Saunders\">(about)</a>\n",
       "</span>\n",
       "<div class=\"tags\">\n",
       "            Tags:\n",
       "            <meta class=\"keywords\" content=\"fate,life,misattributed-john-lennon,planning,plans\" itemprop=\"keywords\"/>\n",
       "<a class=\"tag\" href=\"/tag/fate/page/1/\">fate</a>\n",
       "<a class=\"tag\" href=\"/tag/life/page/1/\">life</a>\n",
       "<a class=\"tag\" href=\"/tag/misattributed-john-lennon/page/1/\">misattributed-john-lennon</a>\n",
       "<a class=\"tag\" href=\"/tag/planning/page/1/\">planning</a>\n",
       "<a class=\"tag\" href=\"/tag/plans/page/1/\">plans</a>\n",
       "</div>\n",
       "</div>\n",
       "<nav>\n",
       "<ul class=\"pager\">\n",
       "<li class=\"previous\">\n",
       "<a href=\"/page/1/\"><span aria-hidden=\"true\">←</span> Previous</a>\n",
       "</li>\n",
       "<li class=\"next\">\n",
       "<a href=\"/page/3/\">Next <span aria-hidden=\"true\">→</span></a>\n",
       "</li>\n",
       "</ul>\n",
       "</nav>\n",
       "</div>\n",
       "<div class=\"col-md-4 tags-box\">\n",
       "<h2>Top Ten tags</h2>\n",
       "<span class=\"tag-item\">\n",
       "<a class=\"tag\" href=\"/tag/love/\" style=\"font-size: 28px\">love</a>\n",
       "</span>\n",
       "<span class=\"tag-item\">\n",
       "<a class=\"tag\" href=\"/tag/inspirational/\" style=\"font-size: 26px\">inspirational</a>\n",
       "</span>\n",
       "<span class=\"tag-item\">\n",
       "<a class=\"tag\" href=\"/tag/life/\" style=\"font-size: 26px\">life</a>\n",
       "</span>\n",
       "<span class=\"tag-item\">\n",
       "<a class=\"tag\" href=\"/tag/humor/\" style=\"font-size: 24px\">humor</a>\n",
       "</span>\n",
       "<span class=\"tag-item\">\n",
       "<a class=\"tag\" href=\"/tag/books/\" style=\"font-size: 22px\">books</a>\n",
       "</span>\n",
       "<span class=\"tag-item\">\n",
       "<a class=\"tag\" href=\"/tag/reading/\" style=\"font-size: 14px\">reading</a>\n",
       "</span>\n",
       "<span class=\"tag-item\">\n",
       "<a class=\"tag\" href=\"/tag/friendship/\" style=\"font-size: 10px\">friendship</a>\n",
       "</span>\n",
       "<span class=\"tag-item\">\n",
       "<a class=\"tag\" href=\"/tag/friends/\" style=\"font-size: 8px\">friends</a>\n",
       "</span>\n",
       "<span class=\"tag-item\">\n",
       "<a class=\"tag\" href=\"/tag/truth/\" style=\"font-size: 8px\">truth</a>\n",
       "</span>\n",
       "<span class=\"tag-item\">\n",
       "<a class=\"tag\" href=\"/tag/simile/\" style=\"font-size: 6px\">simile</a>\n",
       "</span>\n",
       "</div>\n",
       "</div>\n",
       "</div>\n",
       "<footer class=\"footer\">\n",
       "<div class=\"container\">\n",
       "<p class=\"text-muted\">\n",
       "                Quotes by: <a href=\"https://www.goodreads.com/quotes\">GoodReads.com</a>\n",
       "</p>\n",
       "<p class=\"copyright\">\n",
       "                Made with <span class=\"sh-red\">❤</span> by <a href=\"https://scrapinghub.com\">Scrapinghub</a>\n",
       "</p>\n",
       "</div>\n",
       "</footer>\n",
       "</body>\n",
       "</html>"
      ]
     },
     "execution_count": 43,
     "metadata": {},
     "output_type": "execute_result"
    }
   ],
   "source": [
    "from bs4 import BeautifulSoup\n",
    "\n",
    "\n",
    "soup = BeautifulSoup(res.content)\n",
    "soup\n",
    "\n"
   ]
  },
  {
   "cell_type": "code",
   "execution_count": 51,
   "id": "4f87d876",
   "metadata": {},
   "outputs": [
    {
     "data": {
      "text/plain": [
       "\"“This life is what you make it. No matter what, you're going to mess up sometimes, it's a universal truth. But the good part is you get to decide how you're going to mess it up. Girls will be your friends - they'll act like it anyway. But just remember, some come, some go. The ones that stay with you through everything - they're your true best friends. Don't let go of them. Also remember, sisters make the best friends in the world. As for lovers, well, they'll come and go too. And baby, I hate to say it, most of them - actually pretty much all of them are going to break your heart, but you can't give up because if you give up, you'll never find your soulmate. You'll never find that half who makes you whole and that goes for everything. Just because you fail once, doesn't mean you're gonna fail at everything. Keep trying, hold on, and always, always, always believe in yourself, because if you don't, then who will, sweetie? So keep your head high, keep your chin up, and most importantly, keep smiling, because life's a beautiful thing and there's so much to smile about.”\""
      ]
     },
     "execution_count": 51,
     "metadata": {},
     "output_type": "execute_result"
    }
   ],
   "source": [
    "soup.find_all('div', class_ = \"quote\")[0].span.text"
   ]
  },
  {
   "cell_type": "code",
   "execution_count": null,
   "id": "97a92713",
   "metadata": {},
   "outputs": [],
   "source": []
  },
  {
   "cell_type": "code",
   "execution_count": null,
   "id": "1813a79b",
   "metadata": {},
   "outputs": [],
   "source": []
  },
  {
   "cell_type": "code",
   "execution_count": null,
   "id": "a2748851",
   "metadata": {},
   "outputs": [],
   "source": []
  },
  {
   "cell_type": "code",
   "execution_count": null,
   "id": "791218d9",
   "metadata": {},
   "outputs": [],
   "source": []
  },
  {
   "cell_type": "code",
   "execution_count": null,
   "id": "46fdfdf6",
   "metadata": {},
   "outputs": [],
   "source": []
  },
  {
   "cell_type": "code",
   "execution_count": null,
   "id": "cfc9ebc7",
   "metadata": {},
   "outputs": [],
   "source": []
  },
  {
   "cell_type": "code",
   "execution_count": 35,
   "id": "53aae914",
   "metadata": {},
   "outputs": [
    {
     "name": "stdout",
     "output_type": "stream",
     "text": [
      "Original list [1, 3, 4, 5, 6, 7]\n",
      "==========\n",
      "4\n"
     ]
    },
    {
     "ename": "TypeError",
     "evalue": "'int' object is not iterable",
     "output_type": "error",
     "traceback": [
      "\u001b[0;31m---------------------------------------------------------------------------\u001b[0m",
      "\u001b[0;31mTypeError\u001b[0m                                 Traceback (most recent call last)",
      "\u001b[0;32m/var/folders/v3/9qnnmcxd5rdbhy0swt0r_11m0000gn/T/ipykernel_76699/1063565211.py\u001b[0m in \u001b[0;36m<module>\u001b[0;34m\u001b[0m\n\u001b[1;32m     10\u001b[0m \u001b[0mprint\u001b[0m\u001b[0;34m(\u001b[0m\u001b[0;34m\"Original list\"\u001b[0m\u001b[0;34m,\u001b[0m \u001b[0mtest_list\u001b[0m\u001b[0;34m)\u001b[0m\u001b[0;34m\u001b[0m\u001b[0;34m\u001b[0m\u001b[0m\n\u001b[1;32m     11\u001b[0m \u001b[0mprint\u001b[0m\u001b[0;34m(\u001b[0m\u001b[0;34m\"==========\"\u001b[0m\u001b[0;34m)\u001b[0m\u001b[0;34m\u001b[0m\u001b[0;34m\u001b[0m\u001b[0m\n\u001b[0;32m---> 12\u001b[0;31m \u001b[0;32mfor\u001b[0m \u001b[0mi\u001b[0m \u001b[0;32min\u001b[0m \u001b[0mprint_even\u001b[0m\u001b[0;34m(\u001b[0m\u001b[0mtest_list\u001b[0m\u001b[0;34m)\u001b[0m\u001b[0;34m:\u001b[0m\u001b[0;34m\u001b[0m\u001b[0;34m\u001b[0m\u001b[0m\n\u001b[0m\u001b[1;32m     13\u001b[0m     \u001b[0mprint\u001b[0m\u001b[0;34m(\u001b[0m\u001b[0;34m\" \"\u001b[0m\u001b[0;34m)\u001b[0m\u001b[0;34m\u001b[0m\u001b[0;34m\u001b[0m\u001b[0m\n\u001b[1;32m     14\u001b[0m \u001b[0;34m\u001b[0m\u001b[0m\n",
      "\u001b[0;31mTypeError\u001b[0m: 'int' object is not iterable"
     ]
    }
   ],
   "source": [
    "def print_even(test_list):\n",
    "    for i in test_list:\n",
    "        if i%2 == 0:\n",
    "            print(i)\n",
    "            return i\n",
    "            \n",
    "            \n",
    "test_list = [1,3,4,5,6,7]\n",
    "\n",
    "print(\"Original list\", test_list)\n",
    "print(\"==========\")\n",
    "for i in print_even(test_list):\n",
    "    print(\" \")\n",
    "\n"
   ]
  },
  {
   "cell_type": "code",
   "execution_count": null,
   "id": "41c9b0d1",
   "metadata": {},
   "outputs": [],
   "source": []
  },
  {
   "cell_type": "code",
   "execution_count": 37,
   "id": "ad869cad",
   "metadata": {},
   "outputs": [],
   "source": [
    "img_url = \"https://static.toiimg.com/thumb/msid-60132235,imgsize-169468,width-800,height-600,resizemode-75/60132235.jpg\"\n",
    "\n",
    "res = requests.get(img_url)\n",
    "img_data = res.content\n",
    "\n",
    "\n"
   ]
  },
  {
   "cell_type": "code",
   "execution_count": 38,
   "id": "008962ba",
   "metadata": {},
   "outputs": [],
   "source": [
    "with open(\"dog.jpg\", 'wb') as f:\n",
    "    f.write(img_data)"
   ]
  },
  {
   "cell_type": "code",
   "execution_count": null,
   "id": "e95708e1",
   "metadata": {},
   "outputs": [],
   "source": []
  },
  {
   "cell_type": "code",
   "execution_count": null,
   "id": "729a92e0",
   "metadata": {},
   "outputs": [],
   "source": [
    "\n",
    "\n",
    "\n"
   ]
  },
  {
   "cell_type": "code",
   "execution_count": null,
   "id": "ee9a8446",
   "metadata": {},
   "outputs": [],
   "source": []
  }
 ],
 "metadata": {
  "kernelspec": {
   "display_name": "Python 3 (ipykernel)",
   "language": "python",
   "name": "python3"
  },
  "language_info": {
   "codemirror_mode": {
    "name": "ipython",
    "version": 3
   },
   "file_extension": ".py",
   "mimetype": "text/x-python",
   "name": "python",
   "nbconvert_exporter": "python",
   "pygments_lexer": "ipython3",
   "version": "3.9.10"
  }
 },
 "nbformat": 4,
 "nbformat_minor": 5
}
